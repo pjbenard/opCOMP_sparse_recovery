{
 "cells": [
  {
   "cell_type": "code",
   "execution_count": null,
   "id": "46745fa8-196a-4159-a99b-c6e80e7cb713",
   "metadata": {},
   "outputs": [],
   "source": [
    "import numpy as np\n",
    "import holoviews as hv\n",
    "hv.extension('matplotlib')\n",
    "\n",
    "from solversuperres import *"
   ]
  },
  {
   "cell_type": "code",
   "execution_count": null,
   "id": "82c2e988-4847-454e-8fa4-c8b366d26da8",
   "metadata": {},
   "outputs": [],
   "source": [
    "plots = dict()"
   ]
  },
  {
   "cell_type": "code",
   "execution_count": null,
   "id": "b02c8e1b-fc81-4d49-9cdc-80222e7e29e1",
   "metadata": {},
   "outputs": [],
   "source": [
    "k = 100\n",
    "s_true = Signal_true(d=2, k=k, m=k * 40, eps_dist_spikes=0.015)\n",
    "s_true.init_spikes(manual_a=np.random.rand(s_true.k) * 4 + 1)\n",
    "\n",
    "s_esti = s_true.create_estimation(coef_k=5)"
   ]
  },
  {
   "cell_type": "code",
   "execution_count": null,
   "id": "37234b7b-9d17-40bc-94f9-c722e1ef419b",
   "metadata": {},
   "outputs": [],
   "source": [
    "solver = Solver(s_true, s_esti)"
   ]
  },
  {
   "cell_type": "code",
   "execution_count": null,
   "id": "778cb475-bc3b-4734-89c2-cb00a8b15dad",
   "metadata": {},
   "outputs": [],
   "source": [
    "s_true.init_mesures(c=0.02)"
   ]
  },
  {
   "cell_type": "code",
   "execution_count": null,
   "id": "19b3d94e-eb82-4c92-bc46-5e0acd233d7d",
   "metadata": {},
   "outputs": [],
   "source": [
    "grid = Grid(201, 2)"
   ]
  },
  {
   "cell_type": "code",
   "execution_count": null,
   "id": "b58fd85f-cebb-445b-a9bd-4f29000b88c1",
   "metadata": {},
   "outputs": [],
   "source": [
    "zy = Aty(solver.s_true.y, solver.s_true.w, grid.coords)"
   ]
  },
  {
   "cell_type": "code",
   "execution_count": null,
   "id": "c14ab5a8-8ddd-4850-b7a8-2e3a9d417848",
   "metadata": {},
   "outputs": [],
   "source": [
    "plot_s_true_energy = (plot.energy2D(zy).opts(clabel='Energy') * plot.true_points(solver.s_true).opts(colorbar=False, fontscale=2)).opts(legend_position='top_right')\n",
    "plots['true_points_energy'] = plot_s_true_energy\n",
    "hv.output(plot_s_true_energy)\n",
    "# plot.energy2D(zy) * plot.true_points(s_true)"
   ]
  },
  {
   "cell_type": "markdown",
   "id": "2d15ede1-b90a-4cbf-9876-acfe77cc65f3",
   "metadata": {},
   "source": [
    "## COMP"
   ]
  },
  {
   "cell_type": "code",
   "execution_count": null,
   "id": "41c5f164-63df-4f9e-8656-fc23047c38fc",
   "metadata": {
    "scrolled": true,
    "tags": []
   },
   "outputs": [],
   "source": [
    "%%time\n",
    "solver.initialize(opt='COMP', minimizer='cg', tau={'min': -7, 'max': 0}, nit=500, nb_tests=20)"
   ]
  },
  {
   "cell_type": "code",
   "execution_count": null,
   "id": "8edc4fc5-5a36-45d8-8c60-1bf3edf0b1d5",
   "metadata": {},
   "outputs": [],
   "source": [
    "COMP_esti_true_points = (plot.esti_points(solver.s_esti) * plot.true_points(solver.s_true).opts(fontscale=2)).opts(legend_position='top_right')\n",
    "plots['COMP_esti_true_points'] = COMP_esti_true_points\n",
    "hv.output(COMP_esti_true_points)"
   ]
  },
  {
   "cell_type": "code",
   "execution_count": null,
   "id": "be1feddf-f55c-4d70-a718-fcf5636ba672",
   "metadata": {},
   "outputs": [],
   "source": [
    "COMP_error_init = plot.error(solver, alg='COMP', logy=True).opts(fontscale=2, aspect=0.5)\n",
    "plots['COMP_error_init'] = COMP_error_init\n",
    "hv.output(COMP_error_init)"
   ]
  },
  {
   "cell_type": "code",
   "execution_count": null,
   "id": "f384cff9-fbb0-418f-8de3-612764b2d142",
   "metadata": {
    "tags": []
   },
   "outputs": [],
   "source": [
    "r = solver.s_true.y - Ax(solver.s_esti.a_init, solver.s_true.w, solver.s_esti.t_init)\n",
    "zr = Aty(r, solver.s_true.w, grid.coords)"
   ]
  },
  {
   "cell_type": "code",
   "execution_count": null,
   "id": "8b1f94cf-d10a-41e1-9442-235d44d13443",
   "metadata": {},
   "outputs": [],
   "source": [
    "COMP_before_energy = plot.energy2D(zy).opts(clabel='Energy', fontscale=2)\n",
    "COMP_after_energy  = plot.energy2D(zr).opts(clabel='Energy', fontscale=2)\n",
    "plots['COMP_before_energy'] = COMP_before_energy\n",
    "plots['COMP_after_energy'] = COMP_after_energy\n",
    "hv.output((COMP_before_energy + COMP_after_energy).opts(shared_axes=False))"
   ]
  },
  {
   "cell_type": "code",
   "execution_count": null,
   "id": "d674bf21-abbb-4611-b559-7f6489db6206",
   "metadata": {},
   "outputs": [],
   "source": [
    "COMP_matrix_condition = plot.condition(solver, alg='COMP').opts(fontscale=2, aspect=1)\n",
    "plots['COMP_matrix_condition'] = COMP_matrix_condition\n",
    "hv.output(COMP_matrix_condition)"
   ]
  },
  {
   "cell_type": "markdown",
   "id": "3bb2de9c-9f10-4924-a6b1-5f78adc2e542",
   "metadata": {},
   "source": [
    "## SCOMP"
   ]
  },
  {
   "cell_type": "code",
   "execution_count": null,
   "id": "b75d9ef7-3d0e-4595-9065-de069a890fba",
   "metadata": {
    "tags": []
   },
   "outputs": [],
   "source": [
    "%%time\n",
    "solver.initialize(opt='SCOMP', minimizer='cg', tau={'min': -7, 'max': 0}, min_iter=350, nb_tests=1)"
   ]
  },
  {
   "cell_type": "code",
   "execution_count": null,
   "id": "165a0a80-1a95-4296-b94c-2a879b031390",
   "metadata": {},
   "outputs": [],
   "source": [
    "color_range = np.arange(255, -1, -1)\n",
    "red_cmap = list(map(lambda c: f'#ff{c:02x}{c:02x}', color_range))\n",
    "green_cmap = list(map(lambda c: f'#{c:02x}ff{c:02x}', color_range))\n",
    "blue_cmap = list(map(lambda c: f'#{c:02x}{c:02x}ff', color_range))\n",
    "\n",
    "diverging_cmap = green_cmap[::-1][:192] + blue_cmap[64:]\n",
    "SCOMP_init_true_points = (plot.esti_points(solver.s_esti).opts(cmap=diverging_cmap) * plot.true_points(solver.s_true)).opts(fontscale=2, legend_position='top_right')\n",
    "plots['SCOMP_init_true_points'] = SCOMP_init_true_points\n",
    "hv.output(SCOMP_init_true_points)"
   ]
  },
  {
   "cell_type": "code",
   "execution_count": null,
   "id": "79a1b623-4684-4be5-a18d-5f4946737ca0",
   "metadata": {},
   "outputs": [],
   "source": [
    "r = solver.s_true.y - Ax(solver.s_esti.a_init, solver.s_true.w, solver.s_esti.t_init)\n",
    "zr = Aty(r, solver.s_true.w, grid.coords)"
   ]
  },
  {
   "cell_type": "code",
   "execution_count": null,
   "id": "68ab6561-b7e8-4c02-a1ee-e8dfacb9f92b",
   "metadata": {},
   "outputs": [],
   "source": [
    "SCOMP_before_init_energy = plot.energy2D(zy).opts(clabel='Energy', fontscale=2)\n",
    "SCOMP_after_init_energy  = plot.energy2D(zr).opts(clabel='Energy', fontscale=2)\n",
    "plots['SCOMP_before_init_energy'] = SCOMP_before_init_energy\n",
    "plots['SCOMP_after_init_energy'] = SCOMP_after_init_energy\n",
    "hv.output((SCOMP_before_init_energy + SCOMP_after_init_energy).opts(shared_axes=False))"
   ]
  },
  {
   "cell_type": "code",
   "execution_count": null,
   "id": "062beed1-6394-4933-b972-fabeb090546f",
   "metadata": {},
   "outputs": [],
   "source": [
    "SCOMP_error = plot.error(solver, alg='SCOMP', logy=True).opts(fontscale=2, aspect=0.5)\n",
    "plots['SCOMP_error_init'] = SCOMP_error\n",
    "hv.output(SCOMP_error)"
   ]
  },
  {
   "cell_type": "code",
   "execution_count": null,
   "id": "ed7141e9-f336-4739-9bb3-68a0cd627d32",
   "metadata": {},
   "outputs": [],
   "source": [
    "SCOMP_matrix_condition = plot.condition(solver, alg='SCOMP').opts(fontscale=2, aspect=1)\n",
    "plots['SCOMP_matrix_condition'] = SCOMP_matrix_condition\n",
    "hv.output(SCOMP_matrix_condition)"
   ]
  },
  {
   "cell_type": "code",
   "execution_count": null,
   "id": "2633e798-a951-4e85-823e-f2636e280a4d",
   "metadata": {
    "tags": []
   },
   "outputs": [],
   "source": [
    "%%time\n",
    "solver.optimize(eps_proj=0.015, project=True, tau={'min': -8, 'max': 1}, nit=3_000)"
   ]
  },
  {
   "cell_type": "code",
   "execution_count": null,
   "id": "da03300f-a21b-4360-85a6-9c7bd556cc94",
   "metadata": {},
   "outputs": [],
   "source": [
    "SCOMP_esti_true_points = (plot.esti_points(solver.s_esti) * plot.true_points(solver.s_true)).opts(fontscale=2,legend_position='top_right')\n",
    "plots['SCOMP_esti_true_points'] = SCOMP_esti_true_points\n",
    "hv.output(SCOMP_esti_true_points)"
   ]
  },
  {
   "cell_type": "code",
   "execution_count": null,
   "id": "b33c20e5-9197-4c58-8c8c-322245f7b783",
   "metadata": {},
   "outputs": [],
   "source": [
    "SCOMP_error_esti = plot.error(solver, alg='PGD', logy=True).opts(aspect=0.5, fontscale=2)\n",
    "plots['SCOMP_error_esti'] = SCOMP_error_esti\n",
    "hv.output(SCOMP_error_esti)"
   ]
  },
  {
   "cell_type": "code",
   "execution_count": null,
   "id": "b14b2dd4-66d8-4b41-82ab-b3f6ccdd002e",
   "metadata": {},
   "outputs": [],
   "source": [
    "r = solver.s_true.y - Ax(solver.s_esti.a_opt, solver.s_true.w, solver.s_esti.t_opt)\n",
    "zr = Aty(r, solver.s_true.w, grid.coords)"
   ]
  },
  {
   "cell_type": "code",
   "execution_count": null,
   "id": "e4ad619c-7c1a-447b-a6ce-7892fb5b4006",
   "metadata": {},
   "outputs": [],
   "source": [
    "SCOMP_before_esti_energy = plot.energy2D(zy).opts(clabel='Energy', fontscale=2)\n",
    "SCOMP_after_esti_energy  = plot.energy2D(zr).opts(clabel='Energy', fontscale=2)\n",
    "plots['SCOMP_before_esti_energy'] = SCOMP_before_esti_energy\n",
    "plots['SCOMP_after_esti_energy'] = SCOMP_after_esti_energy\n",
    "hv.output((SCOMP_before_esti_energy + SCOMP_after_esti_energy).opts(shared_axes=False))"
   ]
  },
  {
   "cell_type": "markdown",
   "id": "9ebf63f7-6f79-4cba-a439-1cb2d48735b5",
   "metadata": {},
   "source": [
    "## Saving plots"
   ]
  },
  {
   "cell_type": "code",
   "execution_count": null,
   "id": "b2e99de4-1bee-4a87-a183-d98b98be2016",
   "metadata": {},
   "outputs": [],
   "source": [
    "def save_svg(directory, dict_plots):\n",
    "    for name, plot in dict_plots.items():\n",
    "        hv.save(plot, f'{directory}/{name}', fmt='svg')"
   ]
  },
  {
   "cell_type": "code",
   "execution_count": null,
   "id": "d343eed0-f89b-4586-b7df-7750e1d3c393",
   "metadata": {},
   "outputs": [],
   "source": [
    "save_svg('imgs', plots)"
   ]
  }
 ],
 "metadata": {
  "kernelspec": {
   "display_name": "Python 3 (ipykernel)",
   "language": "python",
   "name": "python3"
  },
  "language_info": {
   "codemirror_mode": {
    "name": "ipython",
    "version": 3
   },
   "file_extension": ".py",
   "mimetype": "text/x-python",
   "name": "python",
   "nbconvert_exporter": "python",
   "pygments_lexer": "ipython3",
   "version": "3.10.2"
  }
 },
 "nbformat": 4,
 "nbformat_minor": 5
}
