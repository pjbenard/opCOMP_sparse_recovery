{
 "cells": [
  {
   "cell_type": "code",
   "execution_count": null,
   "id": "46745fa8-196a-4159-a99b-c6e80e7cb713",
   "metadata": {},
   "outputs": [],
   "source": [
    "import numpy as np\n",
    "import holoviews as hv\n",
    "hv.extension('matplotlib')\n",
    "\n",
    "from solversuperres import *"
   ]
  },
  {
   "cell_type": "code",
   "execution_count": null,
   "id": "82c2e988-4847-454e-8fa4-c8b366d26da8",
   "metadata": {},
   "outputs": [],
   "source": [
    "plots = dict()"
   ]
  },
  {
   "cell_type": "code",
   "execution_count": null,
   "id": "11d04fc0-714d-4741-bfc3-31d3b4a1cfd3",
   "metadata": {},
   "outputs": [],
   "source": [
    "color_range = np.arange(127, -1, -1)\n",
    "\n",
    "red_cmap = list(map(lambda c: f'#ff{c:02x}{c:02x}', color_range))\n",
    "green_cmap = list(map(lambda c: f'#{c:02x}ff{c:02x}', color_range))\n",
    "blue_cmap = list(map(lambda c: f'#{c:02x}{c:02x}ff', color_range))\n",
    "\n",
    "diverging_cmap = green_cmap[::-1] + blue_cmap[1:]"
   ]
  },
  {
   "cell_type": "code",
   "execution_count": null,
   "id": "b02c8e1b-fc81-4d49-9cdc-80222e7e29e1",
   "metadata": {},
   "outputs": [],
   "source": [
    "k = 10\n",
    "s_true = Signal_true(d=3, k=k, m=k * 40, eps_dist_spikes=0.25)\n",
    "s_true.init_spikes(manual_a=np.random.rand(s_true.k) * 4 + 1)\n",
    "\n",
    "s_esti = s_true.create_estimation(coef_k=5)"
   ]
  },
  {
   "cell_type": "code",
   "execution_count": null,
   "id": "37234b7b-9d17-40bc-94f9-c722e1ef419b",
   "metadata": {},
   "outputs": [],
   "source": [
    "solver = Solver(s_true, s_esti)"
   ]
  },
  {
   "cell_type": "code",
   "execution_count": null,
   "id": "778cb475-bc3b-4734-89c2-cb00a8b15dad",
   "metadata": {},
   "outputs": [],
   "source": [
    "solver.s_true.init_mesures(c=0.25)"
   ]
  },
  {
   "cell_type": "code",
   "execution_count": null,
   "id": "deeb59d0-28d3-4f22-b109-553b57f718f4",
   "metadata": {},
   "outputs": [],
   "source": [
    "data_true = np.concatenate((s_true.t, s_true.a[:, None]), axis=-1)\n",
    "s_true_3D = hv.Scatter3D(data_true, vdims=['amps']).opts(\n",
    "    hv.opts.Scatter3D(marker='x', s=300, color='amps', cmap=red_cmap, fig_size=300))\n",
    "\n",
    "plots['s_true_3D'] = s_true_3D\n",
    "hv.output(s_true_3D)"
   ]
  },
  {
   "cell_type": "markdown",
   "id": "2d15ede1-b90a-4cbf-9876-acfe77cc65f3",
   "metadata": {},
   "source": [
    "## COMP"
   ]
  },
  {
   "cell_type": "code",
   "execution_count": null,
   "id": "41c5f164-63df-4f9e-8656-fc23047c38fc",
   "metadata": {
    "tags": []
   },
   "outputs": [],
   "source": [
    "%%time\n",
    "solver.initialize(opt='COMP', minimizer='cg', tau={'min': -7, 'max': 0}, nit=500, nb_tests=20)"
   ]
  },
  {
   "cell_type": "code",
   "execution_count": null,
   "id": "e2a789cb-3dd4-4854-8cd5-010e00c4faa2",
   "metadata": {},
   "outputs": [],
   "source": [
    "data_esti = np.concatenate((solver.s_esti.t, solver.s_esti.a[:, None]), axis=-1)\n",
    "COMP_s_esti_3D = hv.Scatter3D(data_esti, vdims=['amps']).opts(\n",
    "    hv.opts.Scatter3D(marker='+', s=300, color='amps', cmap=blue_cmap, fig_size=300))\n",
    "\n",
    "plots['COMP_s_esti_3D'] = COMP_s_esti_3D\n",
    "hv.output(COMP_s_esti_3D)"
   ]
  },
  {
   "cell_type": "code",
   "execution_count": null,
   "id": "b241e1fc-7e58-4744-8970-79711df03c8f",
   "metadata": {},
   "outputs": [],
   "source": [
    "COMP_s_true_esti_3D = s_true_3D * COMP_s_esti_3D\n",
    "plots['COMP_s_true_esti_3D'] = COMP_s_true_esti_3D\n",
    "hv.output(COMP_s_true_esti_3D)"
   ]
  },
  {
   "cell_type": "code",
   "execution_count": null,
   "id": "be1feddf-f55c-4d70-a718-fcf5636ba672",
   "metadata": {},
   "outputs": [],
   "source": [
    "COMP_error = plot.error(solver, alg='COMP', logy=True).opts(aspect=0.5, fontscale=2)\n",
    "plots['COMP_error'] = COMP_error\n",
    "hv.output(COMP_error)"
   ]
  },
  {
   "cell_type": "markdown",
   "id": "3bb2de9c-9f10-4924-a6b1-5f78adc2e542",
   "metadata": {},
   "source": [
    "## SCOMP"
   ]
  },
  {
   "cell_type": "code",
   "execution_count": null,
   "id": "b75d9ef7-3d0e-4595-9065-de069a890fba",
   "metadata": {
    "tags": []
   },
   "outputs": [],
   "source": [
    "%%time\n",
    "solver.initialize(opt='SCOMP', minimizer='cg', tau={'min': -7, 'max': 0}, min_iter=30)"
   ]
  },
  {
   "cell_type": "code",
   "execution_count": null,
   "id": "e5909a9b-0753-4b5b-9b8b-b08ed7c7d4b3",
   "metadata": {},
   "outputs": [],
   "source": [
    "data_esti = np.concatenate((solver.s_esti.t, solver.s_esti.a[:, None]), axis=-1)\n",
    "SCOMP_s_init_3D = hv.Scatter3D(data_esti, vdims=['amps']).opts(\n",
    "    hv.opts.Scatter3D(marker='+', s=300, color='amps', cmap=diverging_cmap, \n",
    "                      symmetric=True, fig_size=300, xlim=(0, 1), ylim=(0, 1), zlim=(0, 1)))\n",
    "\n",
    "plots['SCOMP_s_init_3D'] = SCOMP_s_init_3D\n",
    "hv.output(SCOMP_s_init_3D)"
   ]
  },
  {
   "cell_type": "code",
   "execution_count": null,
   "id": "b2ef49ce-6de3-4fab-91b1-55f5274e7cab",
   "metadata": {},
   "outputs": [],
   "source": [
    "SCOMP_s_true_init_3D = s_true_3D * SCOMP_s_init_3D\n",
    "plots['SCOMP_s_true_init_3D'] = SCOMP_s_true_init_3D\n",
    "hv.output(SCOMP_s_true_init_3D)"
   ]
  },
  {
   "cell_type": "code",
   "execution_count": null,
   "id": "062beed1-6394-4933-b972-fabeb090546f",
   "metadata": {},
   "outputs": [],
   "source": [
    "SCOMP_error_init = plot.error(solver, alg='SCOMP', logy=True).opts(aspect=0.5, fontscale=2)\n",
    "plots['SCOMP_error_init'] = SCOMP_error_init\n",
    "hv.output(SCOMP_error_init)"
   ]
  },
  {
   "cell_type": "code",
   "execution_count": null,
   "id": "072ab1f1-abfa-4bef-b238-4d487b851dd5",
   "metadata": {},
   "outputs": [],
   "source": [
    "SCOMP_condition_init = plot.condition(solver, alg='SCOMP').opts(fontscale=2, aspect=1)\n",
    "plots['SCOMP_condition_init'] = SCOMP_condition_init\n",
    "hv.output(SCOMP_condition_init)"
   ]
  },
  {
   "cell_type": "code",
   "execution_count": null,
   "id": "2633e798-a951-4e85-823e-f2636e280a4d",
   "metadata": {},
   "outputs": [],
   "source": [
    "%%time\n",
    "solver.optimize(eps_proj=0.20, project=True, tau={'min': -8, 'max': 1}, nit=3_000)"
   ]
  },
  {
   "cell_type": "code",
   "execution_count": null,
   "id": "75d6f4ee-3e67-4107-b6e4-3feada832b34",
   "metadata": {},
   "outputs": [],
   "source": [
    "data_esti = np.concatenate((solver.s_esti.t, solver.s_esti.a[:, None]), axis=-1)\n",
    "SCOMP_s_esti_3D = hv.Scatter3D(data_esti, vdims=['amps'], group='esti').opts(\n",
    "    hv.opts.Scatter3D(marker='+', s=300, color='amps', cmap=diverging_cmap, \n",
    "                      symmetric=True, fig_size=300, xlim=(0, 1), ylim=(0, 1), zlim=(0, 1)))\n",
    "hv.output(SCOMP_s_esti_3D)"
   ]
  },
  {
   "cell_type": "code",
   "execution_count": null,
   "id": "7e340255-29b6-4004-a766-be223c4a8f33",
   "metadata": {},
   "outputs": [],
   "source": [
    "SCOMP_s_true_esti_3D = s_true_3D * SCOMP_s_esti_3D\n",
    "plots['SCOMP_s_true_esti_3D'] = SCOMP_s_true_esti_3D\n",
    "hv.output(SCOMP_s_true_esti_3D)"
   ]
  },
  {
   "cell_type": "code",
   "execution_count": null,
   "id": "b33c20e5-9197-4c58-8c8c-322245f7b783",
   "metadata": {},
   "outputs": [],
   "source": [
    "SCOMP_error_esti = plot.error(solver, alg='PGD', logy=True).opts(aspect=0.5, fontscale=2)\n",
    "plots['SCOMP_error_esti'] = SCOMP_error_esti\n",
    "hv.output(SCOMP_error_esti)"
   ]
  },
  {
   "cell_type": "markdown",
   "id": "5567747e-8021-4a09-8e46-34e5d648a184",
   "metadata": {},
   "source": [
    "## Saving plots"
   ]
  },
  {
   "cell_type": "code",
   "execution_count": null,
   "id": "84dbb606-3067-4e54-a816-8441603a6cf0",
   "metadata": {},
   "outputs": [],
   "source": [
    "def save_svg(directory, dict_plots):\n",
    "    for name, plot in dict_plots.items():\n",
    "        hv.save(plot, f'{directory}/{name}', fmt='svg')"
   ]
  },
  {
   "cell_type": "code",
   "execution_count": null,
   "id": "d343eed0-f89b-4586-b7df-7750e1d3c393",
   "metadata": {},
   "outputs": [],
   "source": [
    "save_svg('imgs', plots)"
   ]
  },
  {
   "cell_type": "code",
   "execution_count": null,
   "id": "8dacba3c-53b5-4b44-ac71-6e8df7f1a0c6",
   "metadata": {},
   "outputs": [],
   "source": []
  },
  {
   "cell_type": "code",
   "execution_count": null,
   "id": "5325eeab-ceb6-4e26-95d7-6cbb564d14e3",
   "metadata": {},
   "outputs": [],
   "source": []
  },
  {
   "cell_type": "code",
   "execution_count": null,
   "id": "a3a7e569-a947-4054-95ad-2cc8caadf900",
   "metadata": {},
   "outputs": [],
   "source": []
  },
  {
   "cell_type": "code",
   "execution_count": null,
   "id": "53a4bc7a-48f6-4a40-9870-462e0ac248bf",
   "metadata": {},
   "outputs": [],
   "source": []
  },
  {
   "cell_type": "code",
   "execution_count": null,
   "id": "a17e4116-7257-4421-8adc-fffb8b273ae6",
   "metadata": {},
   "outputs": [],
   "source": []
  },
  {
   "cell_type": "code",
   "execution_count": null,
   "id": "750d58bd-57ac-4b62-ad73-31441665f3da",
   "metadata": {},
   "outputs": [],
   "source": []
  },
  {
   "cell_type": "code",
   "execution_count": null,
   "id": "0df5433d-8804-4ca0-8744-2a2824e21be4",
   "metadata": {},
   "outputs": [],
   "source": []
  },
  {
   "cell_type": "code",
   "execution_count": null,
   "id": "da339a5b-548f-43ba-b489-01c43f13db86",
   "metadata": {},
   "outputs": [],
   "source": []
  },
  {
   "cell_type": "code",
   "execution_count": null,
   "id": "30572857-dc41-4e79-b80c-3c21971f455f",
   "metadata": {},
   "outputs": [],
   "source": []
  }
 ],
 "metadata": {
  "kernelspec": {
   "display_name": "Python 3 (ipykernel)",
   "language": "python",
   "name": "python3"
  },
  "language_info": {
   "codemirror_mode": {
    "name": "ipython",
    "version": 3
   },
   "file_extension": ".py",
   "mimetype": "text/x-python",
   "name": "python",
   "nbconvert_exporter": "python",
   "pygments_lexer": "ipython3",
   "version": "3.10.2"
  }
 },
 "nbformat": 4,
 "nbformat_minor": 5
}
